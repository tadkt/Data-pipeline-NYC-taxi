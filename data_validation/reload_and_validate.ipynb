{
 "cells": [
  {
   "cell_type": "code",
   "execution_count": null,
   "metadata": {},
   "outputs": [],
   "source": [
    "import great_expectations as gx\n",
    "import pandas as pd\n",
    "\n",
    "from great_expectations.data_context import FileDataContext\n",
    "\n",
    "context = FileDataContext.create(project_root_dir=\".\")\n",
    "\n",
    "# You can take a look at all configurations related to GX here\n",
    "print(context)"
   ]
  },
  {
   "cell_type": "code",
   "execution_count": null,
   "metadata": {},
   "outputs": [],
   "source": [
    "# You have been working with a single file, but how to work with a folder or a DB with several tables?\n",
    "# Now, we have some new terms, the data source contains some data assets, and each asset will be divided into several batches\n",
    "\n",
    "# First, add a folder as a data source\n",
    "context.sources.add_pandas_filesystem(\n",
    "    name=\"my_ds_7\", base_directory=\"../data/2024\"\n",
    ")"
   ]
  },
  {
   "cell_type": "code",
   "execution_count": null,
   "metadata": {},
   "outputs": [],
   "source": [
    "my_ds = context.datasources[\"my_ds_7\"]"
   ]
  },
  {
   "cell_type": "code",
   "execution_count": null,
   "metadata": {},
   "outputs": [],
   "source": [
    "my_batching_regex = \"yellow_tripdata_2024-.*.parquet\"\n",
    "\n",
    "# Create the data asset (as one or more files from our data source)\n",
    "my_asset = my_ds.add_parquet_asset(\n",
    "    name=\"my_tripdata_data_asset\", batching_regex=my_batching_regex\n",
    ")\n",
    "\n",
    "# Define a Batch Request to include all batches in the available data set\n",
    "my_batch_request = my_asset.build_batch_request()\n",
    "batches = my_asset.get_batch_list_from_batch_request(my_batch_request)"
   ]
  },
  {
   "cell_type": "code",
   "execution_count": null,
   "metadata": {},
   "outputs": [],
   "source": [
    "for batch in batches:\n",
    "    print(batch.batch_spec)"
   ]
  },
  {
   "cell_type": "code",
   "execution_count": null,
   "metadata": {},
   "outputs": [],
   "source": [
    "context.add_or_update_expectation_suite(\"my_asset_expectation_suite\")\n",
    "\n",
    "asset_validator = context.get_validator(\n",
    "    batch_request=my_batch_request,\n",
    "    expectation_suite_name=\"my_asset_expectation_suite\",\n",
    ")\n",
    "\n",
    "asset_validator.head()"
   ]
  },
  {
   "cell_type": "code",
   "execution_count": null,
   "metadata": {},
   "outputs": [],
   "source": [
    "# Add the same expectations as the single-file\n",
    "asset_validator.expect_column_values_to_not_be_null(\"vendorid\")\n",
    "asset_validator.expect_column_values_to_not_be_null(\"ratecodeid\")\n",
    "asset_validator.expect_column_values_to_not_be_null(\"dolocationid\")\n",
    "asset_validator.expect_column_values_to_not_be_null(\"pulocationid\")\n",
    "asset_validator.expect_column_values_to_not_be_null(\"payment_type\")\n",
    "asset_validator.expect_column_values_to_not_be_null(\"pickup_latitude\")\n",
    "asset_validator.expect_column_values_to_not_be_null(\"pickup_longitude\")\n",
    "asset_validator.expect_column_values_to_not_be_null(\"dropoff_latitude\")\n",
    "asset_validator.expect_column_values_to_not_be_null(\"dropoff_longitude\")\n",
    "\n",
    "asset_validator.expect_column_values_to_be_between(\"trip_distance\", min_value=0, max_value=100)\n",
    "asset_validator.expect_column_values_to_be_between(\"extra\", min_value=0, max_value=3)\n",
    "\n",
    "asset_validator.save_expectation_suite(discard_failed_expectations=False)"
   ]
  },
  {
   "cell_type": "code",
   "execution_count": null,
   "metadata": {},
   "outputs": [],
   "source": [
    "# Similar to a single file, create a checkpoint to validate the result\n",
    "# Define the checkpoint\n",
    "checkpoint = context.add_or_update_checkpoint(\n",
    "    name=\"yellow_tripdata_asset_checkpoint\",\n",
    "    validator=asset_validator\n",
    ")\n",
    "\n",
    "# Get the result after validator\n",
    "checkpoint_result = checkpoint.run()\n",
    "\n",
    "# Quick view on the validation result\n",
    "context.view_validation_result(checkpoint_result)"
   ]
  }
 ],
 "metadata": {
  "kernelspec": {
   "display_name": "deprj",
   "language": "python",
   "name": "python3"
  },
  "language_info": {
   "name": "python",
   "version": "3.11.10"
  }
 },
 "nbformat": 4,
 "nbformat_minor": 2
}
